{
  "cells": [
    {
      "attachments": {},
      "cell_type": "markdown",
      "id": "07289bb0",
      "metadata": {},
      "source": [
        "# Trabajo integrador - Parte 1\n",
        "## Python y Numpy\n",
        "\n",
        "**Nombre**:Tatiana Arenas Suárez"
      ]
    },
    {
      "cell_type": "code",
      "execution_count": 15,
      "id": "aaf94e0a",
      "metadata": {
        "id": "aaf94e0a"
      },
      "outputs": [],
      "source": [
        "import numpy as np"
      ]
    },
    {
      "attachments": {},
      "cell_type": "markdown",
      "id": "0ffe9554",
      "metadata": {},
      "source": [
        "## Ejercicio 1\n",
        "\n",
        "Dada una matriz en formato *numpy array*, donde cada fila de la matriz representa un vector matemático, se requiere computar las normas $l_0$, $l_1$, $l_2$, $l_{\\infty}$, según la siguientes definiciones:\n",
        "\n",
        "\\begin{equation}\n",
        "    ||\\mathbf{x}||^{p} = \\bigg(\\sum_{j=1}^{n}{|x_i|^p}\\bigg)^{\\frac{1}{p}}\n",
        "\\end{equation}\n",
        "\n",
        "con los casos especiales para $p=0$ y $p=\\infty$ siendo:\n",
        "\n",
        "\\begin{equation}\n",
        "    \\begin{array}{rcl}\n",
        "        ||\\mathbf{x}||_0 & = & \\bigg(\\sum_{j=1 \\wedge x_j != 0}{|x_i|}\\bigg)\\\\\n",
        "        ||\\mathbf{x}||_{\\infty} & = & \\max_{i}{|x_i|}\\\\\n",
        "    \\end{array}\n",
        "\\end{equation}"
      ]
    },
    {
      "cell_type": "code",
      "execution_count": 16,
      "id": "0bdb0ee3",
      "metadata": {},
      "outputs": [],
      "source": [
        "def normasVectores(p,a):\n",
        "\n",
        "  if p == 0:\n",
        "    L = np.count_nonzero(a)\n",
        "  elif p != 0:   \n",
        "    L = (np.sum((np.absolute(a))**p))**(1/p)\n",
        "  else:\n",
        "    L = np.max(np.absolute(a))\n",
        "  return print(p, L)"
      ]
    },
    {
      "cell_type": "code",
      "execution_count": 17,
      "metadata": {},
      "outputs": [],
      "source": [
        "A = np.array([[-2,-4,2],[-2,1,2],[4,2,5]])"
      ]
    },
    {
      "cell_type": "code",
      "execution_count": 18,
      "id": "f59538d6",
      "metadata": {},
      "outputs": [
        {
          "name": "stdout",
          "output_type": "stream",
          "text": [
            "14 5.030204283689044\n",
            "14 5.030204283689044\n",
            "14 5.030204283689044\n"
          ]
        }
      ],
      "source": [
        "normas_A = np.apply_along_axis(lambda x: normasVectores(14,A),1,A)"
      ]
    },
    {
      "attachments": {},
      "cell_type": "markdown",
      "id": "dd66d862",
      "metadata": {},
      "source": [
        "## Ejercicio 2\n",
        "\n",
        "En clasificación contamos con dos arreglos, la “verdad” y la “predicción”. Cada elemento de los arreglos pueden tomar dos valores, “True” (representado por 1) y “False” (representado por 0). Entonces podemos definir 4 variables:\n",
        "\n",
        "* True Positive (TP): El valor verdadero es 1 y el valor predicho es 1\n",
        "* True Negative (TN): El valor verdadero es 0 y el valor predicho es 0\n",
        "* False Positive (FP): El valor verdadero es 0 y el valor predicho es 1\n",
        "* False Negative (FN): El valor verdadero es 1 y el valor predicho es 0\n",
        "\n",
        "A partir de esto definimos:\n",
        "\n",
        "* Precision = TP / (TP + FP)\n",
        "* Recall = TP / (TP + FN)\n",
        "* Accuracy = (TP + TN) / (TP + TN + FP + FN)\n",
        " \n",
        "Calcular las 3 métricas con Numpy y operaciones vectorizadas."
      ]
    },
    {
      "cell_type": "code",
      "execution_count": 19,
      "id": "794dcd58",
      "metadata": {},
      "outputs": [
        {
          "name": "stdout",
          "output_type": "stream",
          "text": [
            "La precisión del modelo es : 0.5\n",
            "El recall del modelo es: 0.5\n",
            "El accuracy del modelo es: 0.4\n"
          ]
        }
      ],
      "source": [
        "truth = np.array([1,1,0,1,1,1,0,0,0,1])\n",
        "prediction = np.array([1,1,1,1,0,0,1,1,0,0])\n",
        "\n",
        "# Calculemos las 4 variables\n",
        "TP = np.sum((truth == 1) & (prediction == 1))\n",
        "TN = np.sum((truth == 0) & (prediction == 0))\n",
        "FP = np.sum((truth == 0) & (prediction == 1))\n",
        "FN = np.sum((truth == 1) & (prediction == 0))\n",
        "\n",
        "# Calculemos las métricas\n",
        "precision = TP / (TP + FP)\n",
        "recall = TP / (TP + FN)\n",
        "accuracy = (TP + TN) / (TP + TN +FP +FN)\n",
        "\n",
        "print(\"La precisión del modelo es :\", precision)\n",
        "print(\"El recall del modelo es:\", recall)\n",
        "print(\"El accuracy del modelo es:\", accuracy)\n"
      ]
    },
    {
      "attachments": {},
      "cell_type": "markdown",
      "id": "d0ac6f6f",
      "metadata": {},
      "source": [
        "## Ejercicio 3\n",
        "\n",
        "Crear una función que separe los datos en train-validation-test. Debe recibir de parametros:\n",
        "\n",
        "- X: Array o Dataframe que contiene los datos de entrada del sistema.\n",
        "- y: Array o Dataframe que contiene la(s) variable(s) target del problema.\n",
        "- train_percentage: _float_ el porcentaje de training.\n",
        "- test_percentage: _float_ el porcentaje de testing.\n",
        "- val_percentage: _float_ el porcentaje de validación.\n",
        "- shuffle: _bool_ determina si el split debe hacerse de manera random o no.\n",
        "\n",
        "Hints: \n",
        "\n",
        "* Usar Indexing y slicing\n",
        "* Usar np.random.[...]"
      ]
    },
    {
      "cell_type": "code",
      "execution_count": 20,
      "id": "ca85fc66",
      "metadata": {},
      "outputs": [],
      "source": [
        "def split(X_input,\n",
        "          Y_input,\n",
        "          train_size=0.7,\n",
        "          val_size=0.15,\n",
        "          test_size=0.15,\n",
        "          random_state=42,\n",
        "          shuffle=True):\n",
        "    \n",
        "    if random_state is not None:\n",
        "        np.random.seed(random_state)\n",
        "\n",
        "    if shuffle:\n",
        "        # Combinamos los datos\n",
        "        data = np.column_stack((X_input, Y_input))\n",
        "        \n",
        "        # Calculamos el número de parejas (X,Y)\n",
        "        total_rows = data.shape[0]\n",
        "        \n",
        "        # Re-ordenamos las parejas de manera aleatoria\n",
        "        np.random.shuffle(data)\n",
        "        \n",
        "        # Calculamos el tamaño de cada conjunto en función de los porcentajes\n",
        "        train_num = int(total_rows * train_size)\n",
        "        val_num = int(total_rows * val_size)\n",
        "        \n",
        "        # Dividimos los datos en 3 conjuntos: train, validation, test\n",
        "        X_train, Y_train = data[:train_num, :-1], data[:train_num, -1]\n",
        "        X_val, Y_val = data[train_num:(train_num + val_num), :-1], data[train_num:(train_num + val_num), -1]\n",
        "        X_test, Y_test = data[(train_num + val_num):, :-1], data[(train_num + val_num):, -1]\n",
        "\n",
        "    else:\n",
        "        # Dividamos los datos en conjuntos sin aleatoriedad\n",
        "        X_train = X_input[:int(len(X_input) * train_size)]\n",
        "        Y_train = Y_input[:int(len(Y_input) * train_size)]\n",
        "        X_val = X_input[int(len(X_input) * train_size):int(len(X_input) * (train_size + val_size))]\n",
        "        Y_val = Y_input[int(len(Y_input) * train_size):int(len(Y_input) * (train_size + val_size))]\n",
        "        X_test = X_input[int(len(X_input) * (train_size + val_size)):]\n",
        "        Y_test = Y_input[int(len(Y_input) * (train_size + val_size)):]\n",
        "    \n",
        "    #return NotImplementedError\n",
        "    return X_train, Y_train, X_val, Y_val, X_test, Y_test"
      ]
    },
    {
      "cell_type": "code",
      "execution_count": 21,
      "id": "42180080",
      "metadata": {},
      "outputs": [
        {
          "data": {
            "text/plain": [
              "(array([1, 2, 3, 4, 5, 6, 7]),\n",
              " array([ 2,  4,  6,  8, 10, 12, 14]),\n",
              " array([8]),\n",
              " array([16]),\n",
              " array([ 9, 10]),\n",
              " array([18, 20]))"
            ]
          },
          "execution_count": 21,
          "metadata": {},
          "output_type": "execute_result"
        }
      ],
      "source": [
        "X = np.array([1,2,3,4,5,6,7,8,9,10])\n",
        "Y = np.array([2,4,6,8,10,12,14,16,18,20])\n",
        "\n",
        "split(X,\n",
        "          Y,\n",
        "          train_size=0.7,\n",
        "          val_size=0.15,\n",
        "          test_size=0.15,\n",
        "          random_state=42,\n",
        "          shuffle=False)"
      ]
    }
  ],
  "metadata": {
    "colab": {
      "collapsed_sections": [],
      "name": "Practica_clase_3.ipynb",
      "provenance": []
    },
    "kernelspec": {
      "display_name": "Python 3.10.7 64-bit",
      "language": "python",
      "name": "python3"
    },
    "language_info": {
      "codemirror_mode": {
        "name": "ipython",
        "version": 3
      },
      "file_extension": ".py",
      "mimetype": "text/x-python",
      "name": "python",
      "nbconvert_exporter": "python",
      "pygments_lexer": "ipython3",
      "version": "3.9.12"
    },
    "vscode": {
      "interpreter": {
        "hash": "b5c22da4a52024410f64f9c5a5e2b4ffeeb944a5ed00e8825a42174cdab30315"
      }
    }
  },
  "nbformat": 4,
  "nbformat_minor": 5
}
